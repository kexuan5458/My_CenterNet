{
 "cells": [
  {
   "cell_type": "code",
   "execution_count": 17,
   "metadata": {},
   "outputs": [
    {
     "name": "stdout",
     "output_type": "stream",
     "text": [
      "loading annotations into memory...\n",
      "Done (t=0.49s)\n",
      "creating index...\n",
      "index created!\n",
      "loading annotations into memory...\n",
      "Done (t=0.12s)\n",
      "creating index...\n",
      "index created!\n",
      "loading annotations into memory...\n",
      "Done (t=0.35s)\n",
      "creating index...\n",
      "index created!\n"
     ]
    }
   ],
   "source": [
    "from pycocotools.coco import COCO\n",
    "\n",
    "\n",
    "train = '/home/950154_customer/sungting/Heriot-Watt-new/annotations/single_class/train_cart.json'\n",
    "val = '/home/950154_customer/sungting/Heriot-Watt-new/annotations/single_class/val_cart.json'\n",
    "test = '/home/950154_customer/sungting/Heriot-Watt-new/annotations/single_class/test_cart.json'\n",
    "\n",
    "train = COCO(train)\n",
    "val = COCO(val)\n",
    "test = COCO(test)"
   ]
  },
  {
   "cell_type": "code",
   "execution_count": 16,
   "metadata": {},
   "outputs": [
    {
     "name": "stdout",
     "output_type": "stream",
     "text": [
      "5.6700299273193675\n",
      "5.675391326661535\n",
      "5.68815129293709\n"
     ]
    }
   ],
   "source": [
    "train_cnt = {k: len(v) for k, v in train.imgToAnns.items()}\n",
    "instances = sum(train_cnt.values())\n",
    "print(instances / len(train_cnt))\n",
    "val_cnt = {k: len(v) for k, v in val.imgToAnns.items()}\n",
    "instances = sum(val_cnt.values())\n",
    "print(instances / len(val_cnt))\n",
    "test_cnt = {k: len(v) for k, v in test.imgToAnns.items()}\n",
    "instances = sum(test_cnt.values())\n",
    "print(instances / len(test_cnt))\n"
   ]
  },
  {
   "cell_type": "code",
   "execution_count": null,
   "metadata": {},
   "outputs": [
    {
     "name": "stdout",
     "output_type": "stream",
     "text": [
      "loading annotations into memory...\n",
      "Done (t=0.49s)\n",
      "creating index...\n",
      "index created!\n",
      "loading annotations into memory...\n",
      "Done (t=0.12s)\n",
      "creating index...\n",
      "index created!\n",
      "loading annotations into memory...\n",
      "Done (t=0.35s)\n",
      "creating index...\n",
      "index created!\n"
     ]
    }
   ],
   "source": [
    "from pycocotools.coco import COCO\n",
    "\n",
    "\n",
    "train = '/home/950154_customer/sungting/Heriot-Watt-new/annotations/single_class/train_cart.json'\n",
    "val = '/home/950154_customer/sungting/Heriot-Watt-new/annotations/single_class/val_cart.json'\n",
    "test = '/home/950154_customer/sungting/Heriot-Watt-new/annotations/single_class/test_cart.json'\n",
    "\n",
    "train = COCO(train)\n",
    "val = COCO(val)\n",
    "test = COCO(test)"
   ]
  },
  {
   "cell_type": "code",
   "execution_count": null,
   "metadata": {},
   "outputs": [
    {
     "name": "stdout",
     "output_type": "stream",
     "text": [
      "5.6700299273193675\n",
      "5.675391326661535\n",
      "5.68815129293709\n"
     ]
    }
   ],
   "source": [
    "train_cnt = {k: len(v) for k, v in train.imgToAnns.items()}\n",
    "instances = sum(train_cnt.values())\n",
    "print(instances / len(train_cnt))\n",
    "val_cnt = {k: len(v) for k, v in val.imgToAnns.items()}\n",
    "instances = sum(val_cnt.values())\n",
    "print(instances / len(val_cnt))\n",
    "test_cnt = {k: len(v) for k, v in test.imgToAnns.items()}\n",
    "instances = sum(test_cnt.values())\n",
    "print(instances / len(test_cnt))\n"
   ]
  }
 ],
 "metadata": {
  "interpreter": {
   "hash": "3267828677f0e33a1b93529f8afe3975fabbef2c817a3faecfabdb2d5ee63d2f"
  },
  "kernelspec": {
   "display_name": "Python 3.7.11 ('centernet-uda')",
   "language": "python",
   "name": "python3"
  },
  "language_info": {
   "codemirror_mode": {
    "name": "ipython",
    "version": 3
   },
   "file_extension": ".py",
   "mimetype": "text/x-python",
   "name": "python",
   "nbconvert_exporter": "python",
   "pygments_lexer": "ipython3",
   "version": "3.7.11"
  },
  "orig_nbformat": 4
 },
 "nbformat": 4,
 "nbformat_minor": 2
}
