{
 "cells": [
  {
   "cell_type": "code",
   "execution_count": 1,
   "metadata": {},
   "outputs": [],
   "source": [
    "from tensorboard.backend.event_processing import event_accumulator"
   ]
  },
  {
   "cell_type": "code",
   "execution_count": 2,
   "metadata": {},
   "outputs": [],
   "source": [
    "path = \"/home/950154_customer/sungting/code/centernet-uda/outputs/hw2itri_em_dla/2022-04-27-14-34-51/logs/events.out.tfevents.1651041293.e2027fa4d135.80788.0\"\n",
    "ea = event_accumulator.EventAccumulator(\n",
    "\tpath,\n",
    "\tsize_guidance={event_accumulator.SCALARS: 0},\n",
    ")\n",
    "_absorb_print = ea.Reload()"
   ]
  },
  {
   "cell_type": "code",
   "execution_count": 3,
   "metadata": {},
   "outputs": [
    {
     "data": {
      "text/plain": [
       "{'images': [],\n",
       " 'audio': [],\n",
       " 'histograms': [],\n",
       " 'scalars': ['training/centernet_loss',\n",
       "  'training/hm_loss',\n",
       "  'training/wh_loss',\n",
       "  'training/off_loss',\n",
       "  'training/total_loss',\n",
       "  'validation/centernet_loss',\n",
       "  'validation/hm_loss',\n",
       "  'validation/wh_loss',\n",
       "  'validation/off_loss',\n",
       "  'validation/total_loss',\n",
       "  'MSCOCO_Class_vehicle/Precision/AP',\n",
       "  'MSCOCO_Precision/mAP',\n",
       "  'MSCOCO_Class_vehicle/Precision/AP.50IOU',\n",
       "  'MSCOCO_Precision/mAP.50IOU',\n",
       "  'MSCOCO_Class_vehicle/Precision/AP.75IOU',\n",
       "  'MSCOCO_Precision/mAP.75IOU',\n",
       "  'MSCOCO_Class_vehicle/Recall/AR1',\n",
       "  'MSCOCO_Recall/mAR1',\n",
       "  'MSCOCO_Class_vehicle/Recall/AR10',\n",
       "  'MSCOCO_Recall/mAR10',\n",
       "  'MSCOCO_Class_vehicle/Recall/AR100',\n",
       "  'MSCOCO_Recall/mAR100',\n",
       "  'MSCOCO_Class_vehicle/Precision/mAP_small',\n",
       "  'MSCOCO_Precision/mAP_small',\n",
       "  'MSCOCO_Class_vehicle/Precision/mAP_medium',\n",
       "  'MSCOCO_Precision/mAP_medium',\n",
       "  'MSCOCO_Class_vehicle/Precision/mAP_large',\n",
       "  'MSCOCO_Precision/mAP_large',\n",
       "  'MSCOCO_Class_vehicle/Recall/AR100_small',\n",
       "  'MSCOCO_Recall/mAR100_small',\n",
       "  'MSCOCO_Class_vehicle/Recall/AR100_medium',\n",
       "  'MSCOCO_Recall/mAR100_medium',\n",
       "  'MSCOCO_Class_vehicle/Recall/AR100_large',\n",
       "  'MSCOCO_Recall/mAR100_large'],\n",
       " 'distributions': [],\n",
       " 'tensors': [],\n",
       " 'graph': False,\n",
       " 'meta_graph': False,\n",
       " 'run_metadata': []}"
      ]
     },
     "execution_count": 3,
     "metadata": {},
     "output_type": "execute_result"
    }
   ],
   "source": [
    "ea.Tags()"
   ]
  }
 ],
 "metadata": {
  "interpreter": {
   "hash": "3267828677f0e33a1b93529f8afe3975fabbef2c817a3faecfabdb2d5ee63d2f"
  },
  "kernelspec": {
   "display_name": "Python 3.7.11 ('centernet-uda')",
   "language": "python",
   "name": "python3"
  },
  "language_info": {
   "codemirror_mode": {
    "name": "ipython",
    "version": 3
   },
   "file_extension": ".py",
   "mimetype": "text/x-python",
   "name": "python",
   "nbconvert_exporter": "python",
   "pygments_lexer": "ipython3",
   "version": "3.7.11"
  },
  "orig_nbformat": 4
 },
 "nbformat": 4,
 "nbformat_minor": 2
}
