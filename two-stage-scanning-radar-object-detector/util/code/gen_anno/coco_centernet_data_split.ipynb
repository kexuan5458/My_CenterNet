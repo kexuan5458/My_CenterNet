{
 "cells": [
  {
   "cell_type": "code",
   "execution_count": 8,
   "metadata": {},
   "outputs": [],
   "source": [
    "import os\n",
    "from collections import defaultdict\n",
    "\n",
    "root = '/data2/itri/DCV/single_sensor_data/bag2/radar_cart_train_test_split'\n",
    "path = '/data2/itri/DCV/single_sensor_data/bag2/radar_cart_0_200_timelapsed'\n",
    "files = sorted(os.listdir(path))\n",
    "\n",
    "\n",
    "split_ratio = {\n",
    "\t'train': 3,\n",
    "\t'val': 1,\n",
    "\t'test': 1\n",
    "}\n"
   ]
  },
  {
   "cell_type": "code",
   "execution_count": 9,
   "metadata": {},
   "outputs": [],
   "source": [
    "file_split = defaultdict(list)\n",
    "idx = 0\n",
    "\n",
    "while idx < len(files):\n",
    "\tfor k, v in split_ratio.items():\n",
    "\t\tif idx >= len(files):\n",
    "\t\t\tbreak\n",
    "\t\tfor i in range(v):\n",
    "\t\t\tif idx >= len(files):\n",
    "\t\t\t\tbreak\n",
    "\t\t\tfile_split[k].append((idx, files[idx]))\n",
    "\t\t\tidx += 1\n"
   ]
  },
  {
   "cell_type": "code",
   "execution_count": 10,
   "metadata": {},
   "outputs": [
    {
     "data": {
      "text/plain": [
       "6919"
      ]
     },
     "execution_count": 10,
     "metadata": {},
     "output_type": "execute_result"
    }
   ],
   "source": [
    "len(files)"
   ]
  },
  {
   "cell_type": "code",
   "execution_count": 11,
   "metadata": {},
   "outputs": [
    {
     "data": {
      "text/plain": [
       "6919"
      ]
     },
     "execution_count": 11,
     "metadata": {},
     "output_type": "execute_result"
    }
   ],
   "source": [
    "sum(map(len, file_split.values()))"
   ]
  },
  {
   "cell_type": "code",
   "execution_count": 12,
   "metadata": {},
   "outputs": [],
   "source": [
    "import shutil\n",
    "from tqdm import tqdm"
   ]
  },
  {
   "cell_type": "code",
   "execution_count": 13,
   "metadata": {},
   "outputs": [
    {
     "name": "stderr",
     "output_type": "stream",
     "text": [
      "100%|██████████| 4152/4152 [01:36<00:00, 42.86it/s]\n",
      "100%|██████████| 1384/1384 [00:36<00:00, 37.59it/s]\n",
      "100%|██████████| 1383/1383 [00:38<00:00, 35.67it/s]\n"
     ]
    }
   ],
   "source": [
    "for k, v in file_split.items():\n",
    "\tout_path = os.path.join(root, k)\n",
    "\tfor vv in tqdm(v):\n",
    "\t\tshutil.copy(os.path.join(path, vv[1]), out_path)\n",
    "\t\t"
   ]
  }
 ],
 "metadata": {
  "interpreter": {
   "hash": "31f2aee4e71d21fbe5cf8b01ff0e069b9275f58929596ceb00d14d90e3e16cd6"
  },
  "kernelspec": {
   "display_name": "Python 3.6.9 64-bit",
   "language": "python",
   "name": "python3"
  },
  "language_info": {
   "codemirror_mode": {
    "name": "ipython",
    "version": 3
   },
   "file_extension": ".py",
   "mimetype": "text/x-python",
   "name": "python",
   "nbconvert_exporter": "python",
   "pygments_lexer": "ipython3",
   "version": "3.6.9"
  },
  "orig_nbformat": 4
 },
 "nbformat": 4,
 "nbformat_minor": 2
}
