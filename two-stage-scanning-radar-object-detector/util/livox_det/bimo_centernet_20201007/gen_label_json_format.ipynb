{
 "cells": [
  {
   "cell_type": "code",
   "execution_count": 1,
   "metadata": {},
   "outputs": [],
   "source": [
    "import json\n",
    "import pandas as pd\n",
    "import pprint\n",
    "import numpy as np\n",
    "import labelme\n",
    "import base64\n",
    "from tqdm import tqdm\n",
    "\n",
    "pp = pprint.PrettyPrinter(indent=4)\n",
    "file_path = \"/data2/itri/rosbag_api_sync/05051602_16202024975019_16202025296023/2_2/16202024975019.json\"\n"
   ]
  },
  {
   "cell_type": "code",
   "execution_count": 2,
   "metadata": {},
   "outputs": [],
   "source": [
    "with open(file_path, \"r\") as f:\n",
    "\tdata = json.load(f)\n",
    "\n",
    "# print(data.keys())\n",
    "\n",
    "output_dict = dict(\n",
    "\tversion=\"4.5.13\",\n",
    "  flags={},\n",
    ")\n",
    "\n",
    "# print(json.dumps(data, indent=2))\n"
   ]
  },
  {
   "cell_type": "code",
   "execution_count": 3,
   "metadata": {},
   "outputs": [],
   "source": [
    "def get_bbox_2pt(four_pt_list):\n",
    "\t# u: left/right, v: up/down\n",
    "\tdef u_coord(x):\n",
    "\t\treturn x/0.175 + 1142/2\n",
    "\tdef v_coord(y):\n",
    "\t\treturn -y/0.175 + 1142\n",
    "\n",
    "\tx_min = int(u_coord(min([x[0] for x in four_pt_list])))\n",
    "\ty_min = int(v_coord(min([x[1] for x in four_pt_list])))\n",
    "\tx_max = int(u_coord(max([x[0] for x in four_pt_list])))\n",
    "\ty_max = int(v_coord(max([x[1] for x in four_pt_list])))\n",
    "\n",
    "\treturn [[x_min, y_min], [x_max, y_max]]\n",
    "\n",
    "\n",
    "def get_bbox_xy(data, lidar_type):\n",
    "\tall_bbox = []\n",
    "\tfor i, b in enumerate(data['bbox']): # for each bbox\n",
    "\t\tbbox = b[:, [0, 1]]\n",
    "\t\tif lidar_type == \"baraja\":\n",
    "\t\t\tx = -bbox[:, [1]]-0.03\n",
    "\t\t\ty = bbox[:, [0]]+0.6\n",
    "\t\t\tbbox = np.hstack((x, y))\n",
    "\t\tif lidar_type == \"livox\":\n",
    "\t\t\tx = -bbox[:, [1]]+0.18\n",
    "\t\t\ty = bbox[:, [0]]+0.6\n",
    "\t\t\tbbox = np.hstack((x, y))\n",
    "\t\tif lidar_type == \"all\":\n",
    "\t\t\tx = -bbox[:, [1]]-0.1\n",
    "\t\t\ty = bbox[:, [0]]+0.6\n",
    "\t\t\tbbox = np.hstack((x, y))\n",
    "\n",
    "\t\tfour_pt_list = set(tuple(item) for item in bbox)\n",
    "\t\tsingle_anno = dict(\n",
    "\t\t\t# label = \"car\",\n",
    "\t\t\tlabel = int(data['cls'][i]),\n",
    "\t\t\tpoints = get_bbox_2pt(four_pt_list),\n",
    "\t\t\tgroup_id = None,\n",
    "\t\t\tshape_type = \"rectangle\",\n",
    "\t\t\tflags = {}\n",
    "\t\t)\n",
    "\t\tall_bbox.append(single_anno)\n",
    "\t\t# print(single_anno)\n",
    "\t# print(\"all_box: \", all_bbox)\n",
    "\treturn all_bbox"
   ]
  },
  {
   "cell_type": "code",
   "execution_count": 4,
   "metadata": {},
   "outputs": [
    {
     "name": "stdout",
     "output_type": "stream",
     "text": [
      "[[4 2]\n",
      " [5 2]\n",
      " [4 2]]\n",
      "[[2 4]\n",
      " [2 5]\n",
      " [2 4]]\n",
      "[[4 2]\n",
      " [5 2]\n",
      " [4 2]]\n"
     ]
    }
   ],
   "source": [
    "a = np.random.randint(0, 10, (3, 2))\n",
    "print(a)\n",
    "\n",
    "print(a[:, [1, 0]])\n",
    "print(a[:, [0, 1]])"
   ]
  },
  {
   "cell_type": "markdown",
   "metadata": {},
   "source": [
    "### combine two sensors' bbox"
   ]
  },
  {
   "cell_type": "code",
   "execution_count": 8,
   "metadata": {},
   "outputs": [
    {
     "name": "stderr",
     "output_type": "stream",
     "text": [
      "  0%|          | 0/2323 [00:00<?, ?it/s]"
     ]
    },
    {
     "name": "stdout",
     "output_type": "stream",
     "text": [
      "[[[22.14640039 11.46911649 -1.56747645]\n",
      "  [22.14539101  9.88366771 -1.56747645]\n",
      "  [22.14539101  9.88366771 -1.56747645]\n",
      "  [18.42903906  9.88603374 -1.56747645]\n",
      "  [18.42903906  9.88603374 -1.56747645]\n",
      "  [18.43004844 11.47148251 -1.56747645]\n",
      "  [18.43004844 11.47148251 -1.56747645]\n",
      "  [22.14640039 11.46911649 -1.56747645]]]\n"
     ]
    },
    {
     "name": "stderr",
     "output_type": "stream",
     "text": [
      "  0%|          | 0/2323 [00:00<?, ?it/s]\n"
     ]
    }
   ],
   "source": [
    "import os\n",
    "baraja_bbox_path = \"/data2/itri/RAV4/2021-11-24-11-38-59/processing/0_200/baraja_bbox_npy\"\n",
    "livox_bbox_path = \"/data2/itri/RAV4/2021-11-24-11-38-59/processing/0_200/livox_bbox_npy\"\n",
    "radar_img_path = \"/data2/itri/RAV4/2021-11-24-11-38-59/processing/0_200/radar_lidar_overlay\"\n",
    "\n",
    "baraja_file = os.listdir(baraja_bbox_path)\n",
    "baraja_file.sort()\n",
    "\n",
    "for bf in tqdm(baraja_file[:]):\n",
    "\tall_bbox = []\n",
    "\n",
    "\tdata = np.load(os.path.join(\n",
    "\t\tbaraja_bbox_path,\n",
    "\t\tbf\n",
    "\t))\n",
    "\n",
    "\tprint(data)\n",
    "\n",
    "\tbbox_1 = get_bbox_xy(data, \"baraja\")\n",
    "\n",
    "\tdata = np.load(os.path.join(\n",
    "\t\tlivox_bbox_path,\n",
    "\t\tbf\n",
    "\t))\n",
    "\tbbox_2 = get_bbox_xy(data, \"livox\")\n",
    "\n",
    "\tall_bbox = bbox_1 + bbox_2\n",
    "\t# print(all_bbox)\n",
    "\n",
    "\tim_data = labelme.LabelFile.load_image_file(\n",
    "\t\tos.path.join(\n",
    "\t\t\tradar_img_path,\n",
    "\t\t\tbf[:-4]+\".png\"\n",
    "\t\t)\n",
    "\t)\n",
    "\timage_data = base64.b64encode(im_data).decode('utf-8')\n",
    "\n",
    "\tout_json = {\n",
    "\t\t\"version\": \"4.5.13\",\n",
    "    \"flags\": {},\n",
    "\t\t\"shapes\": all_bbox,\n",
    "\t\t\"imagePath\": bf[:-4]+\".png\",\n",
    "\t\t\"imageData\": image_data,\n",
    "\t\t\"imageHeight\": 1142,\n",
    "\t\t\"imageWidth\": 1142\n",
    "\t}\n",
    "\n",
    "\t# print(all_bbox)\n",
    "\n",
    "\tbreak\n",
    "\n",
    "\t# with open(\"/data2/itri/RAV4/2021-11-24-11-38-59/processing/0_200/radar_lidar_overlay_anno/{}.json\".format(bf[:-4]), \"w\") as f:\n",
    "\t\t# json.dump(out_json, f, indent = 2)\n",
    "\n",
    "\n",
    "\t# print(json.dumps(out_json, indent=2))"
   ]
  },
  {
   "cell_type": "markdown",
   "metadata": {},
   "source": [
    "### use single repo to gen labelme bbox"
   ]
  },
  {
   "cell_type": "code",
   "execution_count": 11,
   "metadata": {},
   "outputs": [
    {
     "name": "stderr",
     "output_type": "stream",
     "text": [
      "100%|██████████| 2321/2321 [00:06<00:00, 374.50it/s]\n"
     ]
    }
   ],
   "source": [
    "import os\n",
    "# baraja_bbox_path = \"/data2/itri/RAV4/2021-11-24-11-38-59/processing/0_200/baraja_bbox_npy\"\n",
    "# livox_bbox_path = \"/data2/itri/RAV4/2021-11-24-11-38-59/processing/0_200/livox_bbox_npy\"\n",
    "radar_img_path = \"/data2/itri/RAV4/2021-11-24-11-38-59/radar_timelapsed/0_200/no_comp/radar_lidar_overlay\"\n",
    "# bbox_npy_path = \"/data2/itri/RAV4/2021-11-24-11-38-59/radar_timelapsed/0_200/no_comp/baraja_livox_bbox_npy\"\n",
    "bbox_npy_path = \"/data2/itri/RAV4/2021-11-24-11-38-59/radar_timelapsed/0_200/no_comp/for_bimo_centernet/baraja_livox_bbox_npy\"\n",
    "out_json_path = '/data2/itri/RAV4/2021-11-24-11-38-59/radar_timelapsed/0_200/no_comp/for_bimo_centernet/labelme_json'\n",
    "\n",
    "lidar = os.listdir(bbox_npy_path)\n",
    "lidar.sort()\n",
    "\n",
    "for lf in tqdm(lidar[:]):\n",
    "\tdata = np.load(os.path.join(\n",
    "\t\tbbox_npy_path,\n",
    "\t\tlf\n",
    "\t))\n",
    "\n",
    "\t# print(lf)\n",
    "\n",
    "\tbbox_1 = get_bbox_xy(data, \"all\")\n",
    "\n",
    "\t# if lf == '16377251434601.npz':\n",
    "\t# \tprint(len(bbox_1))\n",
    "\n",
    "\tall_bbox = bbox_1\n",
    "\t# im_data = labelme.LabelFile.load_image_file(\n",
    "\t# \tos.path.join(\n",
    "\t# \t\tradar_img_path,\n",
    "\t# \t\tlf[:-4]+\".png\"\n",
    "\t# \t)\n",
    "\t# )\n",
    "\n",
    "\t# image_data = base64.b64encode(im_data).decode('utf-8')\n",
    "\n",
    "\tout_json = {\n",
    "\t\t\"version\": \"4.5.13\",\n",
    "    \"flags\": {},\n",
    "\t\t\"shapes\": all_bbox,\n",
    "\t\t\"imagePath\": lf[:-4]+\".png\",\n",
    "\t\t# \"imageData\": image_data,\n",
    "\t\t\"imageHeight\": 1142,\n",
    "\t\t\"imageWidth\": 1142\n",
    "\t}\n",
    "\n",
    "\twith open(\"{}/{}.json\".format(out_json_path, lf[:-4]), \"w\") as f:\n",
    "\t\tjson.dump(out_json, f, indent = 2)\n",
    "\n",
    "\n",
    "\t# print(json.dumps(out_json, indent=2))"
   ]
  },
  {
   "cell_type": "code",
   "execution_count": 60,
   "metadata": {},
   "outputs": [],
   "source": [
    "import labelme\n",
    "import base64\n",
    "\n",
    "data = labelme.LabelFile.load_image_file(\n",
    "\tos.path.join(\n",
    "\t\tradar_img_path,\n",
    "\t\tbf[:-4]+\".png\"\n",
    "\t)\n",
    ")\n",
    "image_data = base64.b64encode(data).decode('utf-8')\n",
    "# print(image_data)\n"
   ]
  }
 ],
 "metadata": {
  "interpreter": {
   "hash": "31f2aee4e71d21fbe5cf8b01ff0e069b9275f58929596ceb00d14d90e3e16cd6"
  },
  "kernelspec": {
   "display_name": "Python 3.6.9 64-bit",
   "language": "python",
   "name": "python3"
  },
  "language_info": {
   "codemirror_mode": {
    "name": "ipython",
    "version": 3
   },
   "file_extension": ".py",
   "mimetype": "text/x-python",
   "name": "python",
   "nbconvert_exporter": "python",
   "pygments_lexer": "ipython3",
   "version": "3.6.9"
  },
  "orig_nbformat": 4
 },
 "nbformat": 4,
 "nbformat_minor": 2
}
