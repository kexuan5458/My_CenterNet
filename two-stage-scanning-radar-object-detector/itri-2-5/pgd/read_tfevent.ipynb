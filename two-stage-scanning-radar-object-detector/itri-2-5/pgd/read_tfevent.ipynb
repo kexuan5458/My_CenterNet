{
 "cells": [
  {
   "cell_type": "code",
   "execution_count": 13,
   "metadata": {},
   "outputs": [],
   "source": [
    "from tensorboard.backend.event_processing import event_accumulator\n",
    "\n",
    "path = '/home/950154_customer/sungting/da_centernet_uda/centernet-uda-ang-two-stage-bimo/outputs/hw2itri_em_dla_itri_test/2022-07-22-10-42-48-11241153-livox_anno-after-fixing-ltxy/logs/events.out.tfevents.1658457769.7724506597f1.35454.0'\n",
    "ea = event_accumulator.EventAccumulator(\n",
    "    path,\n",
    "    size_guidance={ # see below regarding this argument\n",
    "        event_accumulator.COMPRESSED_HISTOGRAMS: 500,\n",
    "        event_accumulator.IMAGES: 4,\n",
    "        event_accumulator.AUDIO: 4,\n",
    "        event_accumulator.SCALARS: 0,\n",
    "        event_accumulator.HISTOGRAMS: 1,\n",
    "    }\n",
    ")"
   ]
  },
  {
   "cell_type": "code",
   "execution_count": 14,
   "metadata": {},
   "outputs": [
    {
     "data": {
      "text/plain": [
       "{'images': [],\n",
       " 'audio': [],\n",
       " 'histograms': [],\n",
       " 'scalars': ['test/centernet_loss',\n",
       "  'test/hm_loss',\n",
       "  'test/wh_loss',\n",
       "  'test/off_loss',\n",
       "  'test/total_loss',\n",
       "  'MSCOCO_Class_car/Precision/AP',\n",
       "  'MSCOCO_Class_bus_truck/Precision/AP',\n",
       "  'MSCOCO_Class_ped_bimo/Precision/AP',\n",
       "  'MSCOCO_Precision/mAP',\n",
       "  'MSCOCO_Class_car/Precision/AP.50IOU',\n",
       "  'MSCOCO_Class_bus_truck/Precision/AP.50IOU',\n",
       "  'MSCOCO_Class_ped_bimo/Precision/AP.50IOU',\n",
       "  'MSCOCO_Precision/mAP.50IOU',\n",
       "  'MSCOCO_Class_car/Precision/AP.75IOU',\n",
       "  'MSCOCO_Class_bus_truck/Precision/AP.75IOU',\n",
       "  'MSCOCO_Class_ped_bimo/Precision/AP.75IOU',\n",
       "  'MSCOCO_Precision/mAP.75IOU',\n",
       "  'MSCOCO_Class_car/Recall/AR1',\n",
       "  'MSCOCO_Class_bus_truck/Recall/AR1',\n",
       "  'MSCOCO_Class_ped_bimo/Recall/AR1',\n",
       "  'MSCOCO_Recall/mAR1',\n",
       "  'MSCOCO_Class_car/Recall/AR10',\n",
       "  'MSCOCO_Class_bus_truck/Recall/AR10',\n",
       "  'MSCOCO_Class_ped_bimo/Recall/AR10',\n",
       "  'MSCOCO_Recall/mAR10',\n",
       "  'MSCOCO_Class_car/Recall/AR100',\n",
       "  'MSCOCO_Class_bus_truck/Recall/AR100',\n",
       "  'MSCOCO_Class_ped_bimo/Recall/AR100',\n",
       "  'MSCOCO_Recall/mAR100',\n",
       "  'MSCOCO_Class_car/Precision/mAP_small',\n",
       "  'MSCOCO_Class_bus_truck/Precision/mAP_small',\n",
       "  'MSCOCO_Class_ped_bimo/Precision/mAP_small',\n",
       "  'MSCOCO_Precision/mAP_small',\n",
       "  'MSCOCO_Class_car/Precision/mAP_medium',\n",
       "  'MSCOCO_Class_bus_truck/Precision/mAP_medium',\n",
       "  'MSCOCO_Class_ped_bimo/Precision/mAP_medium',\n",
       "  'MSCOCO_Precision/mAP_medium',\n",
       "  'MSCOCO_Class_car/Precision/mAP_large',\n",
       "  'MSCOCO_Class_bus_truck/Precision/mAP_large',\n",
       "  'MSCOCO_Class_ped_bimo/Precision/mAP_large',\n",
       "  'MSCOCO_Precision/mAP_large',\n",
       "  'MSCOCO_Class_car/Recall/AR100_small',\n",
       "  'MSCOCO_Class_bus_truck/Recall/AR100_small'],\n",
       " 'distributions': [],\n",
       " 'tensors': [],\n",
       " 'graph': False,\n",
       " 'meta_graph': False,\n",
       " 'run_metadata': []}"
      ]
     },
     "execution_count": 14,
     "metadata": {},
     "output_type": "execute_result"
    }
   ],
   "source": [
    "ea.Reload()\n",
    "\n",
    "ea.Tags()"
   ]
  },
  {
   "cell_type": "code",
   "execution_count": 15,
   "metadata": {},
   "outputs": [
    {
     "data": {
      "text/plain": [
       "[ScalarEvent(wall_time=1658458174.2228205, step=0, value=0.0037675313651561737)]"
      ]
     },
     "execution_count": 15,
     "metadata": {},
     "output_type": "execute_result"
    }
   ],
   "source": [
    "ea.Scalars('MSCOCO_Class_car/Precision/AP.50IOU')"
   ]
  }
 ],
 "metadata": {
  "interpreter": {
   "hash": "3267828677f0e33a1b93529f8afe3975fabbef2c817a3faecfabdb2d5ee63d2f"
  },
  "kernelspec": {
   "display_name": "Python 3.7.11 ('centernet-uda')",
   "language": "python",
   "name": "python3"
  },
  "language_info": {
   "codemirror_mode": {
    "name": "ipython",
    "version": 3
   },
   "file_extension": ".py",
   "mimetype": "text/x-python",
   "name": "python",
   "nbconvert_exporter": "python",
   "pygments_lexer": "ipython3",
   "version": "3.7.11"
  },
  "orig_nbformat": 4
 },
 "nbformat": 4,
 "nbformat_minor": 2
}
