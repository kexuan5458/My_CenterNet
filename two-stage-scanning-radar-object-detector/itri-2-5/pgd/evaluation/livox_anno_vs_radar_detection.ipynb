{
 "cells": [
  {
   "cell_type": "code",
   "execution_count": 1,
   "metadata": {},
   "outputs": [],
   "source": [
    "import os\n",
    "import numpy as np\n",
    "\n",
    "import sys\n",
    "sys.path.insert(0, \"/home/950154_customer/sungting/da_centernet_uda/centernet-uda-ang-two-stage-bimo\")\n",
    "from evaluation.coco_easy import Evaluator\n",
    "\n",
    "npz_path = '/home/950154_customer/sungting/da_centernet_uda/centernet-uda-ang-two-stage-bimo/outputs/hw2itri_em_dla_itri_test/2022-06-25-17-24-51-11241153-livox_anno/npz_output'\n",
    "npz_file = sorted(os.listdir(npz_path))"
   ]
  },
  {
   "cell_type": "code",
   "execution_count": 6,
   "metadata": {},
   "outputs": [
    {
     "name": "stderr",
     "output_type": "stream",
     "text": [
      "100%|██████████| 1372/1372 [00:52<00:00, 26.28it/s]\n"
     ]
    }
   ],
   "source": [
    "from tqdm import tqdm\n",
    "\n",
    "## all exps <\n",
    "all_exp_root_dir = {\n",
    "\t0: npz_path\n",
    "}\n",
    "\n",
    "all_exp = {\n",
    "\t0: npz_file\n",
    "}\n",
    "\n",
    "all_exp_text = {\n",
    "\t0: 'livox_anno vs radar_detection'\n",
    "}\n",
    "## all exps >\n",
    "\n",
    "\n",
    "defaults = {\n",
    "\t\t'score_threshold': 0.2,\n",
    "\t\t\"per_class\": True}\n",
    "\n",
    "num_classes = 3\n",
    "cats = {1: {'id': 1, 'name': '\"car\"'},\n",
    "\t\t\t\t2: {'id': 2, 'name': '\"truck/bus\"'},\n",
    "\t\t\t\t3: {'id': 3, 'name': '\"ped/bimo\"'}}\n",
    "\n",
    "cat_mapping = {v: i for i,\n",
    "\t\t\t\t\t\t\t\t\t\tv in enumerate(range(1, num_classes + 1))}\n",
    "classes = {y: cats[x] if x in cats else ''\n",
    "\t\t\t\t\t\t\t\tfor x, y in cat_mapping.items()}\n",
    "\n",
    "# evaluator = Evaluator(**defaults)\n",
    "# evaluator.classes = classes\n",
    "# evaluator.num_workers = 6\n",
    "# evaluator.use_rotated_boxes = True\n",
    "\n",
    "all_result = {}\n",
    "img_shape = (1142, 1142)\n",
    "pixel2m = 0.175\n",
    "\n",
    "for k, v in all_exp.items():\n",
    "\t# for ii, dist_logic in enumerate(logic_list):\n",
    "\t\tevaluator = Evaluator(**defaults)\n",
    "\t\tevaluator.classes = classes\n",
    "\t\tevaluator.num_workers = 20\n",
    "\t\tevaluator.use_rotated_boxes = True\n",
    "\n",
    "\t\tfor i, exp in enumerate(tqdm(v)):\n",
    "\t\t\texp_arr = np.load(os.path.join(\n",
    "\t\t\t\tall_exp_root_dir[k],\n",
    "\t\t\t\texp\n",
    "\t\t\t))\n",
    "\n",
    "\t\t\texp_arr = dict(exp_arr)\n",
    "\n",
    "\t\t\tinp = {\"pred_boxes\": exp_arr['pred_boxes'][None, ...],\n",
    "\t\t\t\t\t\"pred_classes\": exp_arr['pred_classes'][None, ...],\n",
    "\t\t\t\t\t\"pred_scores\": exp_arr['pred_scores'][None, ...],\n",
    "\t\t\t\t\t\"gt_boxes\": exp_arr['gt_boxes'][None, ...],\n",
    "\t\t\t\t\t\"gt_classes\": exp_arr['gt_classes'][None, ...],\n",
    "\t\t\t\t\t\"gt_ids\": [i],\n",
    "\t\t\t\t\t\"gt_areas\": None,\n",
    "\t\t\t\t\t\"image_shape\": (3, 1142, 1142)}\n",
    "\t\t\t\t\t\n",
    "\t\t\tevaluator.add_batch(**inp)\n",
    "\t\t\n",
    "\t\tresult = evaluator.evaluate()\n",
    "\t\tall_result[\"[{}]]\".format(all_exp_text[k])] = result\n",
    "\n"
   ]
  },
  {
   "cell_type": "code",
   "execution_count": 12,
   "metadata": {},
   "outputs": [
    {
     "data": {
      "text/plain": [
       "(1, 128)"
      ]
     },
     "execution_count": 12,
     "metadata": {},
     "output_type": "execute_result"
    }
   ],
   "source": [
    "exp_arr['pred_classes'][None, ...].shape"
   ]
  },
  {
   "cell_type": "code",
   "execution_count": 7,
   "metadata": {},
   "outputs": [
    {
     "data": {
      "text/plain": [
       "{'[livox_anno vs radar_detection]]': {'MSCOCO_Class_\"car\"/Precision/AP.50IOU': nan,\n",
       "  'MSCOCO_Class_\"truck/bus\"/Precision/AP.50IOU': nan,\n",
       "  'MSCOCO_Class_\"ped/bimo\"/Precision/AP.50IOU': nan,\n",
       "  'MSCOCO_Precision/mAP.50IOU': nan}}"
      ]
     },
     "execution_count": 7,
     "metadata": {},
     "output_type": "execute_result"
    }
   ],
   "source": [
    "all_result"
   ]
  }
 ],
 "metadata": {
  "interpreter": {
   "hash": "3267828677f0e33a1b93529f8afe3975fabbef2c817a3faecfabdb2d5ee63d2f"
  },
  "kernelspec": {
   "display_name": "Python 3.7.11 ('centernet-uda')",
   "language": "python",
   "name": "python3"
  },
  "language_info": {
   "codemirror_mode": {
    "name": "ipython",
    "version": 3
   },
   "file_extension": ".py",
   "mimetype": "text/x-python",
   "name": "python",
   "nbconvert_exporter": "python",
   "pygments_lexer": "ipython3",
   "version": "3.7.11"
  },
  "orig_nbformat": 4
 },
 "nbformat": 4,
 "nbformat_minor": 2
}
